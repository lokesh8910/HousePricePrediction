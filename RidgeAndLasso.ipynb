{
 "cells": [
  {
   "cell_type": "code",
   "execution_count": 25,
   "metadata": {},
   "outputs": [],
   "source": [
    "import pandas as pd\n",
    "import matplotlib.pyplot as plt\n",
    "import seaborn as sns\n",
    "import numpy as np\n",
    "from scipy.stats import norm\n",
    "from sklearn.preprocessing import StandardScaler\n",
    "from scipy import stats\n",
    "import warnings\n",
    "warnings.filterwarnings('ignore')\n",
    "%matplotlib inline\n",
    "from sklearn.ensemble import RandomForestRegressor\n",
    "from sklearn.ensemble import ExtraTreesRegressor\n",
    "from sklearn.feature_selection import SelectFromModel\n",
    "from sklearn.model_selection import train_test_split, cross_val_score\n",
    "from sklearn.metrics import *\n",
    "from sklearn.preprocessing import PolynomialFeatures\n",
    "from sklearn.linear_model import LinearRegression,RidgeCV, LassoCV, ElasticNetCV"
   ]
  },
  {
   "cell_type": "code",
   "execution_count": 26,
   "metadata": {},
   "outputs": [],
   "source": [
    "df_train = pd.read_csv('train.csv')"
   ]
  },
  {
   "cell_type": "code",
   "execution_count": 27,
   "metadata": {},
   "outputs": [
    {
     "data": {
      "text/html": [
       "<div>\n",
       "<style scoped>\n",
       "    .dataframe tbody tr th:only-of-type {\n",
       "        vertical-align: middle;\n",
       "    }\n",
       "\n",
       "    .dataframe tbody tr th {\n",
       "        vertical-align: top;\n",
       "    }\n",
       "\n",
       "    .dataframe thead th {\n",
       "        text-align: right;\n",
       "    }\n",
       "</style>\n",
       "<table border=\"1\" class=\"dataframe\">\n",
       "  <thead>\n",
       "    <tr style=\"text-align: right;\">\n",
       "      <th></th>\n",
       "      <th>Total</th>\n",
       "      <th>Percent</th>\n",
       "    </tr>\n",
       "  </thead>\n",
       "  <tbody>\n",
       "    <tr>\n",
       "      <th>PoolQC</th>\n",
       "      <td>1453</td>\n",
       "      <td>0.995205</td>\n",
       "    </tr>\n",
       "    <tr>\n",
       "      <th>MiscFeature</th>\n",
       "      <td>1406</td>\n",
       "      <td>0.963014</td>\n",
       "    </tr>\n",
       "    <tr>\n",
       "      <th>Alley</th>\n",
       "      <td>1369</td>\n",
       "      <td>0.937671</td>\n",
       "    </tr>\n",
       "    <tr>\n",
       "      <th>Fence</th>\n",
       "      <td>1179</td>\n",
       "      <td>0.807534</td>\n",
       "    </tr>\n",
       "    <tr>\n",
       "      <th>FireplaceQu</th>\n",
       "      <td>690</td>\n",
       "      <td>0.472603</td>\n",
       "    </tr>\n",
       "    <tr>\n",
       "      <th>LotFrontage</th>\n",
       "      <td>259</td>\n",
       "      <td>0.177397</td>\n",
       "    </tr>\n",
       "    <tr>\n",
       "      <th>GarageCond</th>\n",
       "      <td>81</td>\n",
       "      <td>0.055479</td>\n",
       "    </tr>\n",
       "    <tr>\n",
       "      <th>GarageType</th>\n",
       "      <td>81</td>\n",
       "      <td>0.055479</td>\n",
       "    </tr>\n",
       "    <tr>\n",
       "      <th>GarageYrBlt</th>\n",
       "      <td>81</td>\n",
       "      <td>0.055479</td>\n",
       "    </tr>\n",
       "    <tr>\n",
       "      <th>GarageFinish</th>\n",
       "      <td>81</td>\n",
       "      <td>0.055479</td>\n",
       "    </tr>\n",
       "    <tr>\n",
       "      <th>GarageQual</th>\n",
       "      <td>81</td>\n",
       "      <td>0.055479</td>\n",
       "    </tr>\n",
       "    <tr>\n",
       "      <th>BsmtExposure</th>\n",
       "      <td>38</td>\n",
       "      <td>0.026027</td>\n",
       "    </tr>\n",
       "    <tr>\n",
       "      <th>BsmtFinType2</th>\n",
       "      <td>38</td>\n",
       "      <td>0.026027</td>\n",
       "    </tr>\n",
       "    <tr>\n",
       "      <th>BsmtFinType1</th>\n",
       "      <td>37</td>\n",
       "      <td>0.025342</td>\n",
       "    </tr>\n",
       "    <tr>\n",
       "      <th>BsmtCond</th>\n",
       "      <td>37</td>\n",
       "      <td>0.025342</td>\n",
       "    </tr>\n",
       "    <tr>\n",
       "      <th>BsmtQual</th>\n",
       "      <td>37</td>\n",
       "      <td>0.025342</td>\n",
       "    </tr>\n",
       "    <tr>\n",
       "      <th>MasVnrArea</th>\n",
       "      <td>8</td>\n",
       "      <td>0.005479</td>\n",
       "    </tr>\n",
       "    <tr>\n",
       "      <th>MasVnrType</th>\n",
       "      <td>8</td>\n",
       "      <td>0.005479</td>\n",
       "    </tr>\n",
       "    <tr>\n",
       "      <th>Electrical</th>\n",
       "      <td>1</td>\n",
       "      <td>0.000685</td>\n",
       "    </tr>\n",
       "    <tr>\n",
       "      <th>Utilities</th>\n",
       "      <td>0</td>\n",
       "      <td>0.000000</td>\n",
       "    </tr>\n",
       "  </tbody>\n",
       "</table>\n",
       "</div>"
      ],
      "text/plain": [
       "              Total   Percent\n",
       "PoolQC         1453  0.995205\n",
       "MiscFeature    1406  0.963014\n",
       "Alley          1369  0.937671\n",
       "Fence          1179  0.807534\n",
       "FireplaceQu     690  0.472603\n",
       "LotFrontage     259  0.177397\n",
       "GarageCond       81  0.055479\n",
       "GarageType       81  0.055479\n",
       "GarageYrBlt      81  0.055479\n",
       "GarageFinish     81  0.055479\n",
       "GarageQual       81  0.055479\n",
       "BsmtExposure     38  0.026027\n",
       "BsmtFinType2     38  0.026027\n",
       "BsmtFinType1     37  0.025342\n",
       "BsmtCond         37  0.025342\n",
       "BsmtQual         37  0.025342\n",
       "MasVnrArea        8  0.005479\n",
       "MasVnrType        8  0.005479\n",
       "Electrical        1  0.000685\n",
       "Utilities         0  0.000000"
      ]
     },
     "execution_count": 27,
     "metadata": {},
     "output_type": "execute_result"
    }
   ],
   "source": [
    "#missing data\n",
    "total = df_train.isnull().sum().sort_values(ascending=False)\n",
    "percent = (df_train.isnull().sum()/df_train.isnull().count()).sort_values(ascending=False)\n",
    "missing_data = pd.concat([total, percent], axis=1, keys=['Total', 'Percent'])\n",
    "missing_data.head(20)"
   ]
  },
  {
   "cell_type": "code",
   "execution_count": 28,
   "metadata": {},
   "outputs": [
    {
     "data": {
      "text/plain": [
       "0"
      ]
     },
     "execution_count": 28,
     "metadata": {},
     "output_type": "execute_result"
    }
   ],
   "source": [
    "#dealing with missing data\n",
    "df_train = df_train.drop((missing_data[missing_data['Total'] > 1]).index,1)\n",
    "df_train = df_train.drop(df_train.loc[df_train['Electrical'].isnull()].index)\n",
    "df_train.isnull().sum().max() #just checking that there's no missing data missing.."
   ]
  },
  {
   "cell_type": "code",
   "execution_count": 29,
   "metadata": {},
   "outputs": [],
   "source": [
    "y = df_train['SalePrice']\n",
    "X = df_train.iloc[:,0:62]"
   ]
  },
  {
   "cell_type": "code",
   "execution_count": 30,
   "metadata": {},
   "outputs": [],
   "source": [
    "from sklearn.preprocessing import LabelEncoder\n",
    "for column in X.columns:\n",
    "    if X[column].dtype == type(object):\n",
    "        le = LabelEncoder()\n",
    "        X[column] = le.fit_transform(X[column])"
   ]
  },
  {
   "cell_type": "code",
   "execution_count": 31,
   "metadata": {},
   "outputs": [
    {
     "name": "stdout",
     "output_type": "stream",
     "text": [
      "Find most important features relative to target\n",
      "SalePrice        1.000000\n",
      "OverallQual      0.791069\n",
      "GrLivArea        0.708618\n",
      "GarageCars       0.640473\n",
      "GarageArea       0.623423\n",
      "TotalBsmtSF      0.613905\n",
      "1stFlrSF         0.605968\n",
      "FullBath         0.560881\n",
      "TotRmsAbvGrd     0.533779\n",
      "YearBuilt        0.523273\n",
      "YearRemodAdd     0.507430\n",
      "Fireplaces       0.466968\n",
      "BsmtFinSF1       0.386436\n",
      "WoodDeckSF       0.324422\n",
      "2ndFlrSF         0.319464\n",
      "OpenPorchSF      0.315831\n",
      "HalfBath         0.284400\n",
      "LotArea          0.263837\n",
      "BsmtFullBath     0.227082\n",
      "BsmtUnfSF        0.214446\n",
      "BedroomAbvGr     0.168235\n",
      "ScreenPorch      0.111419\n",
      "PoolArea         0.092397\n",
      "MoSold           0.046380\n",
      "3SsnPorch        0.044571\n",
      "BsmtFinSF2      -0.011412\n",
      "BsmtHalfBath    -0.016873\n",
      "MiscVal         -0.021200\n",
      "Id              -0.021756\n",
      "LowQualFinSF    -0.025620\n",
      "YrSold          -0.028907\n",
      "OverallCond     -0.077924\n",
      "MSSubClass      -0.084230\n",
      "EnclosedPorch   -0.128627\n",
      "KitchenAbvGr    -0.135935\n",
      "Name: SalePrice, dtype: float64\n"
     ]
    }
   ],
   "source": [
    "# Find most important features relative to target\n",
    "print(\"Find most important features relative to target\")\n",
    "corr = df_train.corr()\n",
    "corr.sort_values([\"SalePrice\"], ascending = False, inplace = True)\n",
    "print(corr.SalePrice)"
   ]
  },
  {
   "cell_type": "code",
   "execution_count": 32,
   "metadata": {},
   "outputs": [],
   "source": [
    "#clf = RandomForestRegressor(n_estimators=1000)\n",
    "#clf = clf.fit(X, y)\n",
    "#model = SelectFromModel(clf, prefit=True)\n",
    "#X_new = model.transform(X)\n",
    "\n",
    "#X_new.shape\n"
   ]
  },
  {
   "cell_type": "code",
   "execution_count": 33,
   "metadata": {},
   "outputs": [],
   "source": [
    "#X_new = X_new[:,[0,1,3,4,5,7]]"
   ]
  },
  {
   "cell_type": "code",
   "execution_count": 35,
   "metadata": {},
   "outputs": [
    {
     "data": {
      "text/plain": [
       "(977, 62)"
      ]
     },
     "execution_count": 35,
     "metadata": {},
     "output_type": "execute_result"
    }
   ],
   "source": [
    "X_train, X_test, y_train, y_test = train_test_split(X, y, test_size=0.33, random_state=46)\n",
    "X_train.shape"
   ]
  },
  {
   "cell_type": "code",
   "execution_count": 36,
   "metadata": {},
   "outputs": [
    {
     "name": "stdout",
     "output_type": "stream",
     "text": [
      "Best alpha : 60.0\n"
     ]
    }
   ],
   "source": [
    "# 2* Ridge\n",
    "ridge = RidgeCV(alphas = [0.01, 0.03, 0.06, 0.1, 0.3, 0.6, 1, 3, 6, 10, 30, 60])\n",
    "ridge.fit(X_train, y_train)\n",
    "alpha = ridge.alpha_\n",
    "print(\"Best alpha :\", alpha)"
   ]
  },
  {
   "cell_type": "code",
   "execution_count": 37,
   "metadata": {},
   "outputs": [
    {
     "name": "stdout",
     "output_type": "stream",
     "text": [
      "Try again for more precision with alphas centered around 60.0\n"
     ]
    }
   ],
   "source": [
    "print(\"Try again for more precision with alphas centered around \" + str(alpha))\n",
    "ridge = RidgeCV(alphas = [alpha * .6, alpha * .65, alpha * .7, alpha * .75, alpha * .8, alpha * .85, \n",
    "                          alpha * .9, alpha * .95, alpha, alpha * 1.05, alpha * 1.1, alpha * 1.15,\n",
    "                          alpha * 1.25, alpha * 1.3, alpha * 1.35, alpha * 1.4], \n",
    "                cv = 10)"
   ]
  },
  {
   "cell_type": "code",
   "execution_count": 38,
   "metadata": {},
   "outputs": [
    {
     "name": "stdout",
     "output_type": "stream",
     "text": [
      "Best alpha : 84.0\n"
     ]
    }
   ],
   "source": [
    "ridge.fit(X_train, y_train)\n",
    "alpha = ridge.alpha_\n",
    "print(\"Best alpha :\", alpha)"
   ]
  },
  {
   "cell_type": "code",
   "execution_count": 39,
   "metadata": {},
   "outputs": [
    {
     "name": "stdout",
     "output_type": "stream",
     "text": [
      "Id                  -3.002884\n",
      "MSSubClass         -83.742179\n",
      "MSZoning           -39.363795\n",
      "LotArea              0.343442\n",
      "Street            1585.893761\n",
      "LotShape         -1084.783335\n",
      "LandContour       3459.215934\n",
      "Utilities         -524.027739\n",
      "LotConfig          -39.573145\n",
      "LandSlope         3429.152900\n",
      "Neighborhood       501.848201\n",
      "Condition1       -1947.563828\n",
      "Condition2       -5266.351732\n",
      "BldgType         -2795.025489\n",
      "HouseStyle       -1123.933801\n",
      "OverallQual      15032.164146\n",
      "OverallCond       3632.405278\n",
      "YearBuilt          266.079904\n",
      "YearRemodAdd       110.161023\n",
      "RoofStyle         2619.786944\n",
      "RoofMatl          2041.746848\n",
      "Exterior1st       -538.513374\n",
      "Exterior2nd        204.408663\n",
      "ExterQual        -8980.714874\n",
      "ExterCond          254.600652\n",
      "Foundation         860.878455\n",
      "BsmtFinSF1           4.670052\n",
      "BsmtFinSF2           9.187415\n",
      "BsmtUnfSF           -9.404312\n",
      "TotalBsmtSF          4.453155\n",
      "                     ...     \n",
      "CentralAir        -987.004585\n",
      "Electrical         314.948458\n",
      "1stFlrSF            20.109931\n",
      "2ndFlrSF            11.204572\n",
      "LowQualFinSF        -2.696330\n",
      "GrLivArea           28.618174\n",
      "BsmtFullBath      5248.139749\n",
      "BsmtHalfBath     -1495.764826\n",
      "FullBath          3684.293941\n",
      "HalfBath           468.392977\n",
      "BedroomAbvGr     -5602.961455\n",
      "KitchenAbvGr     -3778.727578\n",
      "KitchenQual      -8848.864388\n",
      "TotRmsAbvGrd      4943.076320\n",
      "Functional        4560.921132\n",
      "Fireplaces        4213.569872\n",
      "GarageCars        6777.404482\n",
      "GarageArea          13.556596\n",
      "PavedDrive        1504.478871\n",
      "WoodDeckSF          24.208681\n",
      "OpenPorchSF        -30.206254\n",
      "EnclosedPorch       10.652260\n",
      "3SsnPorch            3.936658\n",
      "ScreenPorch         60.458681\n",
      "PoolArea           -48.029362\n",
      "MiscVal             -8.300403\n",
      "MoSold              88.362251\n",
      "YrSold           -1120.519747\n",
      "SaleType         -1030.795843\n",
      "SaleCondition     2929.047282\n",
      "Length: 62, dtype: float64\n"
     ]
    }
   ],
   "source": [
    "# Plot important coefficients\n",
    "coefs = pd.Series(ridge.coef_, index = X_train.columns)\n",
    "print(coefs)"
   ]
  },
  {
   "cell_type": "code",
   "execution_count": 40,
   "metadata": {},
   "outputs": [
    {
     "data": {
      "text/plain": [
       "'0'"
      ]
     },
     "execution_count": 40,
     "metadata": {},
     "output_type": "execute_result"
    }
   ],
   "source": [
    "str(sum(coefs == 0))"
   ]
  },
  {
   "cell_type": "code",
   "execution_count": 41,
   "metadata": {},
   "outputs": [
    {
     "name": "stdout",
     "output_type": "stream",
     "text": [
      "Ridge picked 62 features and eliminated the other 0 features\n"
     ]
    }
   ],
   "source": [
    "print(\"Ridge picked \" + str(sum(coefs != 0)) + \" features and eliminated the other \" +  \\\n",
    "      str(sum(coefs == 0)) + \" features\")"
   ]
  },
  {
   "cell_type": "code",
   "execution_count": 42,
   "metadata": {},
   "outputs": [
    {
     "data": {
      "image/png": "[encoded data removed]",
      "text/plain": [
       "<Figure size 432x288 with 1 Axes>"
      ]
     },
     "metadata": {
      "needs_background": "light"
     },
     "output_type": "display_data"
    }
   ],
   "source": [
    "imp_coefs = pd.concat([coefs.sort_values().head(10),\n",
    "                     coefs.sort_values().tail(10)])\n",
    "imp_coefs.plot(kind = \"barh\")\n",
    "plt.title(\"Coefficients in the Ridge Model\")\n",
    "plt.show()"
   ]
  },
  {
   "cell_type": "code",
   "execution_count": 43,
   "metadata": {},
   "outputs": [],
   "source": [
    "# Define error measure for official scoring : RMSE\n",
    "scorer = make_scorer(mean_squared_error, greater_is_better = False)\n",
    "\n",
    "def rmse_cv_train(model,X1,y1):\n",
    "    rmse= np.sqrt(-cross_val_score(model, X1, y1, scoring = scorer, cv = 10))\n",
    "    return(rmse)\n",
    "\n",
    "def rmse_cv_test(model,X1,y1):\n",
    "    rmse= np.sqrt(-cross_val_score(model, X1, y1, scoring = scorer, cv = 10))\n",
    "    return(rmse)"
   ]
  },
  {
   "cell_type": "code",
   "execution_count": 44,
   "metadata": {},
   "outputs": [],
   "source": [
    "# Define error measure for official scoring : RMSE\n",
    "scorerR2 = make_scorer(r2_score)\n",
    "\n",
    "def r2score_cv_train(model,X1,y1):\n",
    "    rmse= cross_val_score(model, X1, y1, scoring = scorerR2, cv = 10)\n",
    "    return(rmse)\n",
    "\n",
    "def r2score_cv_test(model,X1,y1):\n",
    "    rmse= cross_val_score(model, X1, y1, scoring = scorerR2, cv = 10)\n",
    "    return(rmse)"
   ]
  },
  {
   "cell_type": "code",
   "execution_count": 45,
   "metadata": {},
   "outputs": [
    {
     "name": "stdout",
     "output_type": "stream",
     "text": [
      "Ridge RMSE on Training set : 39318.73014838282\n",
      "Ridge RMSE on Test set : 27542.37912572707\n"
     ]
    }
   ],
   "source": [
    "print(\"Ridge RMSE on Training set :\", rmse_cv_train(ridge,X_train,y_train).mean())\n",
    "print(\"Ridge RMSE on Test set :\", rmse_cv_test(ridge,X_test,y_test).mean())"
   ]
  },
  {
   "cell_type": "code",
   "execution_count": 46,
   "metadata": {},
   "outputs": [
    {
     "name": "stdout",
     "output_type": "stream",
     "text": [
      "R^2 score on Training set : 0.7066894521247736\n",
      "R^2 score on Test set : 0.856372889779289\n"
     ]
    }
   ],
   "source": [
    "# Look at predictions on training and validation set\n",
    "print(\"R^2 score on Training set :\", r2score_cv_train(ridge, X_train, y_train).mean())\n",
    "print(\"R^2 score on Test set :\", r2score_cv_test(ridge, X_test, y_test).mean())"
   ]
  },
  {
   "cell_type": "code",
   "execution_count": 47,
   "metadata": {},
   "outputs": [
    {
     "name": "stdout",
     "output_type": "stream",
     "text": [
      "Best alpha : 1.0\n"
     ]
    }
   ],
   "source": [
    "# 3* Lasso\n",
    "lasso = LassoCV(alphas = [0.0001, 0.0003, 0.0006, 0.001, 0.003, 0.006, 0.01, 0.03, 0.06, 0.1, \n",
    "                          0.3, 0.6, 1], \n",
    "                max_iter = 50000, cv = 10)\n",
    "lasso.fit(X_train, y_train)\n",
    "alpha = lasso.alpha_\n",
    "print(\"Best alpha :\", alpha)"
   ]
  },
  {
   "cell_type": "code",
   "execution_count": 48,
   "metadata": {},
   "outputs": [
    {
     "name": "stdout",
     "output_type": "stream",
     "text": [
      "Try again for more precision with alphas centered around 1.0\n",
      "Best alpha : 1.4\n"
     ]
    }
   ],
   "source": [
    "print(\"Try again for more precision with alphas centered around \" + str(alpha))\n",
    "lasso = LassoCV(alphas = [alpha * .6, alpha * .65, alpha * .7, alpha * .75, alpha * .8, \n",
    "                          alpha * .85, alpha * .9, alpha * .95, alpha, alpha * 1.05, \n",
    "                          alpha * 1.1, alpha * 1.15, alpha * 1.25, alpha * 1.3, alpha * 1.35, \n",
    "                          alpha * 1.4], \n",
    "                max_iter = 50000, cv = 10)\n",
    "lasso.fit(X_train, y_train)\n",
    "alpha = lasso.alpha_\n",
    "print(\"Best alpha :\", alpha)"
   ]
  },
  {
   "cell_type": "code",
   "execution_count": 49,
   "metadata": {},
   "outputs": [
    {
     "name": "stdout",
     "output_type": "stream",
     "text": [
      "Id                  -3.185674\n",
      "MSSubClass         -37.426178\n",
      "MSZoning          -553.806683\n",
      "LotArea              0.333668\n",
      "Street           46616.606777\n",
      "LotShape         -1181.509548\n",
      "LandContour       5209.052648\n",
      "Utilities       -46293.110179\n",
      "LotConfig         -119.775474\n",
      "LandSlope        11699.322883\n",
      "Neighborhood       526.688495\n",
      "Condition1       -2614.361656\n",
      "Condition2      -13757.374799\n",
      "BldgType         -3940.061860\n",
      "HouseStyle       -1432.327053\n",
      "OverallQual      15161.307916\n",
      "OverallCond       4045.679123\n",
      "YearBuilt          196.407872\n",
      "YearRemodAdd        31.805388\n",
      "RoofStyle         2855.361463\n",
      "RoofMatl          2097.735070\n",
      "Exterior1st       -549.869978\n",
      "Exterior2nd        161.873114\n",
      "ExterQual       -11444.127546\n",
      "ExterCond          944.797630\n",
      "Foundation        1304.405480\n",
      "BsmtFinSF1           6.607087\n",
      "BsmtFinSF2          11.026059\n",
      "BsmtUnfSF           -4.632569\n",
      "TotalBsmtSF         -1.665467\n",
      "                     ...     \n",
      "CentralAir       -4814.883872\n",
      "Electrical         134.776059\n",
      "1stFlrSF            42.147615\n",
      "2ndFlrSF            29.068717\n",
      "LowQualFinSF        12.502011\n",
      "GrLivArea            3.784228\n",
      "BsmtFullBath      8921.089590\n",
      "BsmtHalfBath     -1276.711906\n",
      "FullBath          7624.429422\n",
      "HalfBath          1350.906937\n",
      "BedroomAbvGr     -7346.899754\n",
      "KitchenAbvGr    -14686.151555\n",
      "KitchenQual      -9492.449905\n",
      "TotRmsAbvGrd      6594.151653\n",
      "Functional        5250.962759\n",
      "Fireplaces        3896.674492\n",
      "GarageCars       11513.490690\n",
      "GarageArea           0.352357\n",
      "PavedDrive        2542.201065\n",
      "WoodDeckSF          21.485566\n",
      "OpenPorchSF        -28.415678\n",
      "EnclosedPorch        2.196853\n",
      "3SsnPorch            3.659200\n",
      "ScreenPorch         58.811718\n",
      "PoolArea           -31.950384\n",
      "MiscVal             -7.911093\n",
      "MoSold             -14.014508\n",
      "YrSold           -1148.759552\n",
      "SaleType         -1188.075087\n",
      "SaleCondition     3006.714027\n",
      "Length: 62, dtype: float64\n"
     ]
    }
   ],
   "source": [
    "# Plot important coefficients\n",
    "coefs = pd.Series(lasso.coef_, index = X_train.columns)\n",
    "print(coefs)"
   ]
  },
  {
   "cell_type": "code",
   "execution_count": 50,
   "metadata": {},
   "outputs": [
    {
     "data": {
      "text/plain": [
       "'0'"
      ]
     },
     "execution_count": 50,
     "metadata": {},
     "output_type": "execute_result"
    }
   ],
   "source": [
    "str(sum(coefs == 0))"
   ]
  },
  {
   "cell_type": "code",
   "execution_count": 51,
   "metadata": {},
   "outputs": [
    {
     "name": "stdout",
     "output_type": "stream",
     "text": [
      "Lasso picked 35 features and eliminated the other 27 features\n"
     ]
    }
   ],
   "source": [
    "print(\"Lasso picked \" + str(sum(coefs > 0)) + \" features and eliminated the other \" +  \\\n",
    "      str(sum(coefs <= 0)) + \" features\")"
   ]
  },
  {
   "cell_type": "code",
   "execution_count": 52,
   "metadata": {},
   "outputs": [
    {
     "data": {
      "image/png": "[encoded data removed]",
      "text/plain": [
       "<Figure size 432x288 with 1 Axes>"
      ]
     },
     "metadata": {
      "needs_background": "light"
     },
     "output_type": "display_data"
    }
   ],
   "source": [
    "imp_coefs = pd.concat([coefs.sort_values().head(10),\n",
    "                     coefs.sort_values().tail(10)])\n",
    "imp_coefs.plot(kind = \"barh\")\n",
    "plt.title(\"Coefficients in the Lasso Model\")\n",
    "plt.show()"
   ]
  },
  {
   "cell_type": "code",
   "execution_count": 53,
   "metadata": {},
   "outputs": [],
   "source": [
    "# Define error measure for official scoring : RMSE\n",
    "scorer = make_scorer(mean_squared_error, greater_is_better = False)\n",
    "\n",
    "def rmse_cv_train(model,X1,y1):\n",
    "    rmse= np.sqrt(-cross_val_score(model, X1, y1, scoring = scorer, cv = 10))\n",
    "    return(rmse)\n",
    "\n",
    "def rmse_cv_test(model,X1,y1):\n",
    "    rmse= np.sqrt(-cross_val_score(model, X1, y1, scoring = scorer, cv = 10))\n",
    "    return(rmse)"
   ]
  },
  {
   "cell_type": "code",
   "execution_count": 54,
   "metadata": {},
   "outputs": [],
   "source": [
    "# Define error measure for official scoring : RMSE\n",
    "scorerR2 = make_scorer(r2_score)\n",
    "\n",
    "def r2score_cv_train(model,X1,y1):\n",
    "    rmse= cross_val_score(model, X1, y1, scoring = scorerR2, cv = 10)\n",
    "    return(rmse)\n",
    "\n",
    "def r2score_cv_test(model,X1,y1):\n",
    "    rmse= cross_val_score(model, X1, y1, scoring = scorerR2, cv = 10)\n",
    "    return(rmse)"
   ]
  },
  {
   "cell_type": "code",
   "execution_count": 55,
   "metadata": {},
   "outputs": [
    {
     "name": "stdout",
     "output_type": "stream",
     "text": [
      "Lasso RMSE on Training set : 39968.51057191684\n",
      "Lasso RMSE on Test set : 28355.278786575327\n"
     ]
    }
   ],
   "source": [
    "print(\"Lasso RMSE on Training set :\", rmse_cv_train(lasso,X_train,y_train).mean())\n",
    "print(\"Lasso RMSE on Test set :\", rmse_cv_test(lasso,X_test,y_test).mean())"
   ]
  },
  {
   "cell_type": "code",
   "execution_count": 56,
   "metadata": {},
   "outputs": [
    {
     "name": "stdout",
     "output_type": "stream",
     "text": [
      "R^2 score on Training set : 0.6982956725218978\n",
      "R^2 score on Test set : 0.8464934379338687\n"
     ]
    }
   ],
   "source": [
    "# Look at predictions on training and validation set\n",
    "print(\"R^2 score on Training set :\", r2score_cv_train(lasso, X_train, y_train).mean())\n",
    "print(\"R^2 score on Test set :\", r2score_cv_test(lasso, X_test, y_test).mean())"
   ]
  },
  {
   "cell_type": "code",
   "execution_count": null,
   "metadata": {},
   "outputs": [],
   "source": []
  }
 ],
 "metadata": {
  "kernelspec": {
   "display_name": "Python 3",
   "language": "python",
   "name": "python3"
  },
  "language_info": {
   "codemirror_mode": {
    "name": "ipython",
    "version": 3
   },
   "file_extension": ".py",
   "mimetype": "text/x-python",
   "name": "python",
   "nbconvert_exporter": "python",
   "pygments_lexer": "ipython3",
   "version": "3.7.0"
  }
 },
 "nbformat": 4,
 "nbformat_minor": 2
}
