{
 "cells": [
  {
   "cell_type": "code",
   "execution_count": 1,
   "metadata": {},
   "outputs": [],
   "source": [
    "import pandas as pd\n",
    "import matplotlib.pyplot as plt\n",
    "import seaborn as sns\n",
    "import numpy as np\n",
    "from scipy.stats import norm\n",
    "from sklearn.preprocessing import StandardScaler\n",
    "from scipy import stats\n",
    "import warnings\n",
    "warnings.filterwarnings('ignore')\n",
    "%matplotlib inline\n",
    "from sklearn.ensemble import RandomForestRegressor\n",
    "from sklearn.ensemble import ExtraTreesRegressor\n",
    "from sklearn.feature_selection import SelectFromModel\n",
    "from sklearn.model_selection import train_test_split, cross_val_score\n",
    "from sklearn.metrics import *\n",
    "from sklearn.preprocessing import PolynomialFeatures\n",
    "from sklearn.linear_model import LinearRegression"
   ]
  },
  {
   "cell_type": "code",
   "execution_count": 2,
   "metadata": {},
   "outputs": [],
   "source": [
    "df_train = pd.read_csv('train.csv')"
   ]
  },
  {
   "cell_type": "code",
   "execution_count": 3,
   "metadata": {},
   "outputs": [
    {
     "data": {
      "text/html": [
       "<div>\n",
       "<style scoped>\n",
       "    .dataframe tbody tr th:only-of-type {\n",
       "        vertical-align: middle;\n",
       "    }\n",
       "\n",
       "    .dataframe tbody tr th {\n",
       "        vertical-align: top;\n",
       "    }\n",
       "\n",
       "    .dataframe thead th {\n",
       "        text-align: right;\n",
       "    }\n",
       "</style>\n",
       "<table border=\"1\" class=\"dataframe\">\n",
       "  <thead>\n",
       "    <tr style=\"text-align: right;\">\n",
       "      <th></th>\n",
       "      <th>Total</th>\n",
       "      <th>Percent</th>\n",
       "    </tr>\n",
       "  </thead>\n",
       "  <tbody>\n",
       "    <tr>\n",
       "      <th>PoolQC</th>\n",
       "      <td>1453</td>\n",
       "      <td>0.995205</td>\n",
       "    </tr>\n",
       "    <tr>\n",
       "      <th>MiscFeature</th>\n",
       "      <td>1406</td>\n",
       "      <td>0.963014</td>\n",
       "    </tr>\n",
       "    <tr>\n",
       "      <th>Alley</th>\n",
       "      <td>1369</td>\n",
       "      <td>0.937671</td>\n",
       "    </tr>\n",
       "    <tr>\n",
       "      <th>Fence</th>\n",
       "      <td>1179</td>\n",
       "      <td>0.807534</td>\n",
       "    </tr>\n",
       "    <tr>\n",
       "      <th>FireplaceQu</th>\n",
       "      <td>690</td>\n",
       "      <td>0.472603</td>\n",
       "    </tr>\n",
       "    <tr>\n",
       "      <th>LotFrontage</th>\n",
       "      <td>259</td>\n",
       "      <td>0.177397</td>\n",
       "    </tr>\n",
       "    <tr>\n",
       "      <th>GarageCond</th>\n",
       "      <td>81</td>\n",
       "      <td>0.055479</td>\n",
       "    </tr>\n",
       "    <tr>\n",
       "      <th>GarageType</th>\n",
       "      <td>81</td>\n",
       "      <td>0.055479</td>\n",
       "    </tr>\n",
       "    <tr>\n",
       "      <th>GarageYrBlt</th>\n",
       "      <td>81</td>\n",
       "      <td>0.055479</td>\n",
       "    </tr>\n",
       "    <tr>\n",
       "      <th>GarageFinish</th>\n",
       "      <td>81</td>\n",
       "      <td>0.055479</td>\n",
       "    </tr>\n",
       "    <tr>\n",
       "      <th>GarageQual</th>\n",
       "      <td>81</td>\n",
       "      <td>0.055479</td>\n",
       "    </tr>\n",
       "    <tr>\n",
       "      <th>BsmtExposure</th>\n",
       "      <td>38</td>\n",
       "      <td>0.026027</td>\n",
       "    </tr>\n",
       "    <tr>\n",
       "      <th>BsmtFinType2</th>\n",
       "      <td>38</td>\n",
       "      <td>0.026027</td>\n",
       "    </tr>\n",
       "    <tr>\n",
       "      <th>BsmtFinType1</th>\n",
       "      <td>37</td>\n",
       "      <td>0.025342</td>\n",
       "    </tr>\n",
       "    <tr>\n",
       "      <th>BsmtCond</th>\n",
       "      <td>37</td>\n",
       "      <td>0.025342</td>\n",
       "    </tr>\n",
       "    <tr>\n",
       "      <th>BsmtQual</th>\n",
       "      <td>37</td>\n",
       "      <td>0.025342</td>\n",
       "    </tr>\n",
       "    <tr>\n",
       "      <th>MasVnrArea</th>\n",
       "      <td>8</td>\n",
       "      <td>0.005479</td>\n",
       "    </tr>\n",
       "    <tr>\n",
       "      <th>MasVnrType</th>\n",
       "      <td>8</td>\n",
       "      <td>0.005479</td>\n",
       "    </tr>\n",
       "    <tr>\n",
       "      <th>Electrical</th>\n",
       "      <td>1</td>\n",
       "      <td>0.000685</td>\n",
       "    </tr>\n",
       "    <tr>\n",
       "      <th>Utilities</th>\n",
       "      <td>0</td>\n",
       "      <td>0.000000</td>\n",
       "    </tr>\n",
       "  </tbody>\n",
       "</table>\n",
       "</div>"
      ],
      "text/plain": [
       "              Total   Percent\n",
       "PoolQC         1453  0.995205\n",
       "MiscFeature    1406  0.963014\n",
       "Alley          1369  0.937671\n",
       "Fence          1179  0.807534\n",
       "FireplaceQu     690  0.472603\n",
       "LotFrontage     259  0.177397\n",
       "GarageCond       81  0.055479\n",
       "GarageType       81  0.055479\n",
       "GarageYrBlt      81  0.055479\n",
       "GarageFinish     81  0.055479\n",
       "GarageQual       81  0.055479\n",
       "BsmtExposure     38  0.026027\n",
       "BsmtFinType2     38  0.026027\n",
       "BsmtFinType1     37  0.025342\n",
       "BsmtCond         37  0.025342\n",
       "BsmtQual         37  0.025342\n",
       "MasVnrArea        8  0.005479\n",
       "MasVnrType        8  0.005479\n",
       "Electrical        1  0.000685\n",
       "Utilities         0  0.000000"
      ]
     },
     "execution_count": 3,
     "metadata": {},
     "output_type": "execute_result"
    }
   ],
   "source": [
    "#missing data\n",
    "total = df_train.isnull().sum().sort_values(ascending=False)\n",
    "percent = (df_train.isnull().sum()/df_train.isnull().count()).sort_values(ascending=False)\n",
    "missing_data = pd.concat([total, percent], axis=1, keys=['Total', 'Percent'])\n",
    "missing_data.head(20)"
   ]
  },
  {
   "cell_type": "code",
   "execution_count": 4,
   "metadata": {},
   "outputs": [
    {
     "data": {
      "text/plain": [
       "0"
      ]
     },
     "execution_count": 4,
     "metadata": {},
     "output_type": "execute_result"
    }
   ],
   "source": [
    "#dealing with missing data\n",
    "df_train = df_train.drop((missing_data[missing_data['Total'] > 1]).index,1)\n",
    "df_train = df_train.drop(df_train.loc[df_train['Electrical'].isnull()].index)\n",
    "df_train.isnull().sum().max() #just checking that there's no missing data missing.."
   ]
  },
  {
   "cell_type": "code",
   "execution_count": 5,
   "metadata": {},
   "outputs": [],
   "source": [
    "y = df_train['SalePrice']\n",
    "X = df_train.iloc[:,0:62]"
   ]
  },
  {
   "cell_type": "code",
   "execution_count": 6,
   "metadata": {},
   "outputs": [],
   "source": [
    "from sklearn.preprocessing import LabelEncoder\n",
    "for column in X.columns:\n",
    "    if X[column].dtype == type(object):\n",
    "        le = LabelEncoder()\n",
    "        X[column] = le.fit_transform(X[column])"
   ]
  },
  {
   "cell_type": "code",
   "execution_count": 7,
   "metadata": {},
   "outputs": [
    {
     "name": "stdout",
     "output_type": "stream",
     "text": [
      "Find most important features relative to target\n",
      "SalePrice        1.000000\n",
      "OverallQual      0.791069\n",
      "GrLivArea        0.708618\n",
      "GarageCars       0.640473\n",
      "GarageArea       0.623423\n",
      "TotalBsmtSF      0.613905\n",
      "1stFlrSF         0.605968\n",
      "FullBath         0.560881\n",
      "TotRmsAbvGrd     0.533779\n",
      "YearBuilt        0.523273\n",
      "YearRemodAdd     0.507430\n",
      "Fireplaces       0.466968\n",
      "BsmtFinSF1       0.386436\n",
      "WoodDeckSF       0.324422\n",
      "2ndFlrSF         0.319464\n",
      "OpenPorchSF      0.315831\n",
      "HalfBath         0.284400\n",
      "LotArea          0.263837\n",
      "BsmtFullBath     0.227082\n",
      "BsmtUnfSF        0.214446\n",
      "BedroomAbvGr     0.168235\n",
      "ScreenPorch      0.111419\n",
      "PoolArea         0.092397\n",
      "MoSold           0.046380\n",
      "3SsnPorch        0.044571\n",
      "BsmtFinSF2      -0.011412\n",
      "BsmtHalfBath    -0.016873\n",
      "MiscVal         -0.021200\n",
      "Id              -0.021756\n",
      "LowQualFinSF    -0.025620\n",
      "YrSold          -0.028907\n",
      "OverallCond     -0.077924\n",
      "MSSubClass      -0.084230\n",
      "EnclosedPorch   -0.128627\n",
      "KitchenAbvGr    -0.135935\n",
      "Name: SalePrice, dtype: float64\n"
     ]
    }
   ],
   "source": [
    "# Find most important features relative to target\n",
    "print(\"Find most important features relative to target\")\n",
    "corr = df_train.corr()\n",
    "corr.sort_values([\"SalePrice\"], ascending = False, inplace = True)\n",
    "print(corr.SalePrice)"
   ]
  },
  {
   "cell_type": "code",
   "execution_count": 12,
   "metadata": {},
   "outputs": [
    {
     "data": {
      "text/plain": [
       "array([5.09092265e-03, 1.60963865e-03, 2.97121747e-03, 1.44724703e-02,\n",
       "       1.07386981e-05, 2.06041333e-03, 1.45301032e-03, 9.25167180e-07,\n",
       "       1.11588147e-03, 6.82421088e-04, 8.26772834e-03, 5.41363290e-04,\n",
       "       2.56608213e-04, 2.88674997e-04, 7.41456755e-04, 5.84208637e-01,\n",
       "       4.63592205e-03, 1.25999004e-02, 8.58682830e-03, 9.02526139e-04,\n",
       "       4.18119360e-04, 1.83671961e-03, 1.60233637e-03, 3.37571433e-03,\n",
       "       5.02203814e-04, 5.62778363e-04, 2.98630514e-02, 7.33402004e-04,\n",
       "       5.78090071e-03, 4.23261493e-02, 7.35570818e-05, 7.63580795e-04,\n",
       "       3.21060083e-03, 1.96344387e-04, 2.31618310e-02, 3.81136439e-02,\n",
       "       1.21593289e-04, 1.08788961e-01, 1.24600475e-03, 4.59566848e-04,\n",
       "       5.47056090e-03, 1.10464040e-03, 2.04324541e-03, 1.05037682e-03,\n",
       "       2.93367026e-03, 7.69944214e-03, 6.88745686e-04, 3.70087471e-03,\n",
       "       2.15244729e-02, 1.76262800e-02, 3.70774254e-04, 5.80623514e-03,\n",
       "       5.18570790e-03, 8.60253514e-04, 2.74652421e-04, 1.34257301e-03,\n",
       "       4.93274085e-04, 6.98890435e-05, 3.72873004e-03, 1.61034784e-03,\n",
       "       9.07549204e-04, 1.87335998e-03])"
      ]
     },
     "execution_count": 12,
     "metadata": {},
     "output_type": "execute_result"
    }
   ],
   "source": [
    "clf = RandomForestRegressor(n_estimators=1000)\n",
    "clf = clf.fit(X, y)\n",
    "clf.feature_importances_"
   ]
  },
  {
   "cell_type": "code",
   "execution_count": 15,
   "metadata": {
    "scrolled": true
   },
   "outputs": [
    {
     "data": {
      "text/plain": [
       "[0.5842086374734382,\n",
       " 0.10878896114806227,\n",
       " 0.042326149277154376,\n",
       " 0.03811364385443915,\n",
       " 0.029863051439533567,\n",
       " 0.0231618310331448,\n",
       " 0.021524472926555238,\n",
       " 0.017626279963344014,\n",
       " 0.01447247025062265,\n",
       " 0.012599900425303146,\n",
       " 0.008586828301231583,\n",
       " 0.00826772833528531,\n",
       " 0.007699442140583013,\n",
       " 0.005806235135504227,\n",
       " 0.00578090070577623,\n",
       " 0.0054705609036445006,\n",
       " 0.005185707895906651,\n",
       " 0.005090922648499313,\n",
       " 0.0046359220491973985,\n",
       " 0.0037287300381889836,\n",
       " 0.00370087471006563,\n",
       " 0.003375714332340304,\n",
       " 0.0032106008319019285,\n",
       " 0.0029712174673714358,\n",
       " 0.0029336702562819885,\n",
       " 0.0020604133292131243,\n",
       " 0.0020432454128860513,\n",
       " 0.0018733599817935458,\n",
       " 0.0018367196075297124,\n",
       " 0.0016103478424662916,\n",
       " 0.001609638650013914,\n",
       " 0.0016023363665266374,\n",
       " 0.0014530103151337856,\n",
       " 0.0013425730104906408,\n",
       " 0.0012460047525869565,\n",
       " 0.0011158814749108496,\n",
       " 0.0011046403951007076,\n",
       " 0.0010503768216371808,\n",
       " 0.0009075492041063839,\n",
       " 0.000902526139123246,\n",
       " 0.0008602535135541286,\n",
       " 0.0007635807948805826,\n",
       " 0.0007414567553779271,\n",
       " 0.0007334020039319527,\n",
       " 0.0006887456856027571,\n",
       " 0.0006824210876212768,\n",
       " 0.0005627783633658326,\n",
       " 0.0005413632897429178,\n",
       " 0.0005022038142501845,\n",
       " 0.0004932740850513685,\n",
       " 0.00045956684755992227,\n",
       " 0.0004181193601091431,\n",
       " 0.0003707742538982139,\n",
       " 0.0002886749967737725,\n",
       " 0.00027465242147284725,\n",
       " 0.0002566082126265952,\n",
       " 0.0001963443872883825,\n",
       " 0.00012159328949766171,\n",
       " 7.355708177354377e-05,\n",
       " 6.988904347635998e-05,\n",
       " 1.0738698069502862e-05,\n",
       " 9.251671797140063e-07]"
      ]
     },
     "execution_count": 15,
     "metadata": {},
     "output_type": "execute_result"
    }
   ],
   "source": [
    "sorted(clf.feature_importances_, reverse=True)"
   ]
  },
  {
   "cell_type": "code",
   "execution_count": 9,
   "metadata": {},
   "outputs": [
    {
     "data": {
      "text/plain": [
       "(1459, 8)"
      ]
     },
     "execution_count": 9,
     "metadata": {},
     "output_type": "execute_result"
    }
   ],
   "source": [
    "model = SelectFromModel(clf, prefit=True)\n",
    "X_new = model.transform(X)\n",
    "\n",
    "X_new.shape"
   ]
  },
  {
   "cell_type": "code",
   "execution_count": 14,
   "metadata": {},
   "outputs": [
    {
     "name": "stdout",
     "output_type": "stream",
     "text": [
      "Most important features: [15, 37, 29, 35, 26, 34, 48, 49, 3, 17, 18, 10, 45, 51, 28, 40, 52, 0, 16, 58, 47, 23, 32, 2, 44, 5, 42, 61, 21, 59, 1, 22, 6, 55, 38, 8, 41, 43, 60, 19, 53, 31, 14, 27, 46, 9, 25, 11, 24, 56, 39, 20, 50, 13, 54, 12, 33, 36, 30, 57, 4, 7]\n"
     ]
    }
   ],
   "source": [
    "important_features_dict = {}\n",
    "for x,i in enumerate(clf.feature_importances_):\n",
    "    important_features_dict[x]=i\n",
    "\n",
    "\n",
    "important_features_list = sorted(important_features_dict,\n",
    "                                 key=important_features_dict.get,\n",
    "                                 reverse=True)\n",
    "\n",
    "print ('Most important features: %s' %important_features_list)"
   ]
  },
  {
   "cell_type": "code",
   "execution_count": 10,
   "metadata": {},
   "outputs": [
    {
     "data": {
      "text/plain": [
       "Index(['OverallQual', 'BsmtFinSF1', 'TotalBsmtSF', '1stFlrSF', '2ndFlrSF',\n",
       "       'GrLivArea', 'GarageCars', 'GarageArea'],\n",
       "      dtype='object')"
      ]
     },
     "execution_count": 10,
     "metadata": {},
     "output_type": "execute_result"
    }
   ],
   "source": [
    "selected_feat= X.columns[(model.get_support())]\n",
    "selected_feat"
   ]
  },
  {
   "cell_type": "code",
   "execution_count": 11,
   "metadata": {},
   "outputs": [
    {
     "data": {
      "text/plain": [
       "<matplotlib.axes._subplots.AxesSubplot at 0x1d92bebb400>"
      ]
     },
     "execution_count": 11,
     "metadata": {},
     "output_type": "execute_result"
    },
    {
     "data": {
      "image/png": "[encoded data removed]",
      "text/plain": [
       "<Figure size 864x648 with 2 Axes>"
      ]
     },
     "metadata": {},
     "output_type": "display_data"
    }
   ],
   "source": [
    "#scatterplot\n",
    "sns.set()\n",
    "cols = selected_feat\n",
    "type(cols)\n",
    "pd.Index(['SalePrice']).append(cols)\n",
    "#correlation matrix\n",
    "corrmat = df_train[pd.Index(['SalePrice']).append(cols)].corr()\n",
    "f, ax = plt.subplots(figsize=(12, 9))\n",
    "sns.heatmap(corrmat, vmax=.8, square=True)"
   ]
  },
  {
   "cell_type": "code",
   "execution_count": 16,
   "metadata": {},
   "outputs": [
    {
     "data": {
      "text/plain": [
       "(977, 8)"
      ]
     },
     "execution_count": 16,
     "metadata": {},
     "output_type": "execute_result"
    }
   ],
   "source": [
    "X_train, X_test, y_train, y_test = train_test_split(X_new, y, test_size=0.33, random_state=42)\n",
    "X_train.shape"
   ]
  },
  {
   "cell_type": "code",
   "execution_count": 17,
   "metadata": {},
   "outputs": [],
   "source": [
    "# Define error measure for official scoring : RMSE\n",
    "scorer = make_scorer(mean_squared_error, greater_is_better = False)\n",
    "\n",
    "def rmse_cv_train(model):\n",
    "    rmse= np.sqrt(-cross_val_score(model, X_train, y_train, scoring = scorer, cv = 10))\n",
    "    return(rmse)\n",
    "\n",
    "def rmse_cv_test(model):\n",
    "    rmse= np.sqrt(-cross_val_score(model, X_test, y_test, scoring = scorer, cv = 10))\n",
    "    return(rmse)"
   ]
  },
  {
   "cell_type": "code",
   "execution_count": 18,
   "metadata": {},
   "outputs": [],
   "source": [
    "#using Random Forest Regressor\n",
    "clf = RandomForestRegressor(n_estimators=1000)\n",
    "clf = clf.fit(X_train, y_train)"
   ]
  },
  {
   "cell_type": "code",
   "execution_count": 19,
   "metadata": {},
   "outputs": [
    {
     "name": "stdout",
     "output_type": "stream",
     "text": [
      "RMSE on Training set : 31863.650974052878\n",
      "RMSE on Test set : 29941.92214122471\n"
     ]
    }
   ],
   "source": [
    "# Look at predictions on training and validation set\n",
    "print(\"RMSE on Training set :\", rmse_cv_train(clf).mean())\n",
    "print(\"RMSE on Test set :\", rmse_cv_test(clf).mean())"
   ]
  },
  {
   "cell_type": "code",
   "execution_count": 20,
   "metadata": {},
   "outputs": [],
   "source": [
    "# Define error measure for official scoring : RMSE\n",
    "scorerR2 = make_scorer(r2_score)\n",
    "\n",
    "def r2score_cv_train(model):\n",
    "    rmse= cross_val_score(model, X_train, y_train, scoring = scorerR2, cv = 10)\n",
    "    return(rmse)\n",
    "\n",
    "def r2score_cv_test(model):\n",
    "    rmse= cross_val_score(model, X_test, y_test, scoring = scorerR2, cv = 10)\n",
    "    return(rmse)"
   ]
  },
  {
   "cell_type": "code",
   "execution_count": 21,
   "metadata": {},
   "outputs": [
    {
     "name": "stdout",
     "output_type": "stream",
     "text": [
      "R^2 score on Training set : 0.8160421523732412\n",
      "R^2 score on Test set : 0.8690712660558908\n"
     ]
    }
   ],
   "source": [
    "# Look at predictions on training and validation set\n",
    "print(\"R^2 score on Training set :\", r2score_cv_train(clf).mean())\n",
    "print(\"R^2 score on Test set :\", r2score_cv_test(clf).mean())"
   ]
  },
  {
   "cell_type": "code",
   "execution_count": null,
   "metadata": {},
   "outputs": [],
   "source": []
  }
 ],
 "metadata": {
  "kernelspec": {
   "display_name": "Python 3",
   "language": "python",
   "name": "python3"
  },
  "language_info": {
   "codemirror_mode": {
    "name": "ipython",
    "version": 3
   },
   "file_extension": ".py",
   "mimetype": "text/x-python",
   "name": "python",
   "nbconvert_exporter": "python",
   "pygments_lexer": "ipython3",
   "version": "3.7.0"
  }
 },
 "nbformat": 4,
 "nbformat_minor": 2
}
